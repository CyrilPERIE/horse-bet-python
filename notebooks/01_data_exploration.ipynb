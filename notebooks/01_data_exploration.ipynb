{
 "cells": [
  {
   "cell_type": "markdown",
   "metadata": {},
   "source": [
    "# Exploration des données de courses hippiques\n",
    "\n",
    "Ce notebook explore les données brutes des courses hippiques pour comprendre:\n",
    "- La structure des données\n",
    "- La couverture temporelle\n",
    "- Les statistiques de base\n",
    "- La qualité des données"
   ]
  },
  {
   "cell_type": "code",
   "execution_count": 9,
   "metadata": {},
   "outputs": [],
   "source": [
    "import sys\n",
    "from pathlib import Path\n",
    "import pandas as pd\n",
    "import matplotlib.pyplot as plt\n",
    "import seaborn as sns\n",
    "from datetime import date, datetime\n",
    "\n",
    "#Ajouter le chemin du projet pour pouvoir importer les modules\n",
    "project_root = Path.cwd().parent\n",
    "sys.path.append(str(project_root))\n",
    "\n",
    "from src.data_access.repositories import RaceRepository, HorseRepository, ResultRepository\n",
    "\n",
    "#Configuration des visualisations\n",
    "plt.style.use('seaborn-v0_8')\n",
    "sns.set_palette('husl')\n",
    "%matplotlib inline"
   ]
  },
  {
   "cell_type": "code",
   "execution_count": 10,
   "metadata": {},
   "outputs": [],
   "source": [
    "#Initialisation des répositories\n",
    "race_repo = RaceRepository()\n",
    "horse_repo = HorseRepository()\n",
    "result_repo = ResultRepository()"
   ]
  },
  {
   "cell_type": "markdown",
   "metadata": {},
   "source": [
    "## 1. Analyse de la Couverture des Données"
   ]
  },
  {
   "cell_type": "code",
   "execution_count": 12,
   "metadata": {},
   "outputs": [
    {
     "name": "stdout",
     "output_type": "stream",
     "text": [
      "Nombre d'hippodromes: 0\n",
      "Exemples d'hippodromes :\n",
      "[]\n"
     ]
    }
   ],
   "source": [
    "# Récupérer la liste des hippodromes\n",
    "hippodromes = race_repo.get_all_hippodromes()\n",
    "print(f\"Nombre d'hippodromes: {len(hippodromes)}\")\n",
    "\n",
    "print(\"Exemples d'hippodromes :\")\n",
    "print(hippodromes[:10])\n",
    "\n"
   ]
  }
 ],
 "metadata": {
  "kernelspec": {
   "display_name": "Python 3",
   "language": "python",
   "name": "python3"
  },
  "language_info": {
   "codemirror_mode": {
    "name": "ipython",
    "version": 3
   },
   "file_extension": ".py",
   "mimetype": "text/x-python",
   "name": "python",
   "nbconvert_exporter": "python",
   "pygments_lexer": "ipython3",
   "version": "3.12.2"
  }
 },
 "nbformat": 4,
 "nbformat_minor": 2
}
